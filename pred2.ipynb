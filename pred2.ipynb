{
 "cells": [
  {
   "cell_type": "code",
   "execution_count": 15,
   "metadata": {
    "collapsed": true
   },
   "outputs": [],
   "source": [
    "import numpy as np\n",
    "import pandas as pd\n",
    "import os\n",
    "import sys\n",
    "from PIL import Image\n",
    "from sklearn.cross_validation import train_test_split\n",
    "import glob\n",
    "from collections import Counter\n"
   ]
  },
  {
   "cell_type": "code",
   "execution_count": 16,
   "metadata": {
    "collapsed": true
   },
   "outputs": [],
   "source": [
    "name=pd.read_csv('sample_submission.csv',usecols=[0])\n",
    "\n",
    "pname=[]\n",
    "for i in name['Image']:\n",
    "    pname.append(i)"
   ]
  },
  {
   "cell_type": "code",
   "execution_count": 17,
   "metadata": {
    "collapsed": true
   },
   "outputs": [],
   "source": [
    "resize_pred=np.load('modelv4_Resize.npz')['arr_0']\n",
    "resize_pred=np.reshape(resize_pred,(6925,344))\n"
   ]
  },
  {
   "cell_type": "code",
   "execution_count": 18,
   "metadata": {
    "collapsed": true
   },
   "outputs": [],
   "source": [
    "omit=[1,\n",
    " 4,\n",
    " 5,\n",
    " 10,\n",
    " 14,\n",
    " 16,\n",
    " 18,\n",
    " 26,\n",
    " 27,\n",
    " 37,\n",
    " 39,\n",
    " 41,\n",
    " 44,\n",
    " 54,\n",
    " 61,\n",
    " 64,\n",
    " 66,\n",
    " 74,\n",
    " 76,\n",
    " 77,\n",
    " 92,\n",
    " 93,\n",
    " 94,\n",
    " 97,\n",
    " 100,\n",
    " 101,\n",
    " 103,\n",
    " 113,\n",
    " 116,\n",
    " 121,\n",
    " 124,\n",
    " 125,\n",
    " 126,\n",
    " 130,\n",
    " 134,\n",
    " 148,\n",
    " 152,\n",
    " 154,\n",
    " 162,\n",
    " 164,\n",
    " 173,\n",
    " 174,\n",
    " 177,\n",
    " 185,\n",
    " 186,\n",
    " 187,\n",
    " 195,\n",
    " 196,\n",
    " 201,\n",
    " 204,\n",
    " 205,\n",
    " 207,\n",
    " 210,\n",
    " 211,\n",
    " 214,\n",
    " 216,\n",
    " 221,\n",
    " 225,\n",
    " 228,\n",
    " 233,\n",
    " 235,\n",
    " 247,\n",
    " 249,\n",
    " 250,\n",
    " 256,\n",
    " 257,\n",
    " 268,\n",
    " 273,\n",
    " 282,\n",
    " 287,\n",
    " 291,\n",
    " 293,\n",
    " 297,\n",
    " 306,\n",
    " 314,\n",
    " 324,\n",
    " 328,\n",
    " 333,\n",
    " 334,\n",
    " 339,\n",
    " 340,\n",
    " 342,\n",
    " 345,\n",
    " 358,\n",
    " 359,\n",
    " 367,\n",
    " 375,\n",
    " 384,\n",
    " 392,\n",
    " 395,\n",
    " 397,\n",
    " 398,\n",
    " 402,\n",
    " 404,\n",
    " 408,\n",
    " 412,\n",
    " 415,\n",
    " 417,\n",
    " 420,\n",
    " 421,\n",
    " 430,\n",
    " 433,\n",
    " 434]"
   ]
  },
  {
   "cell_type": "code",
   "execution_count": 19,
   "metadata": {
    "collapsed": true
   },
   "outputs": [],
   "source": [
    "default=0\n",
    "for whale in omit:\n",
    "    resize_pred=np.insert(resize_pred,whale,default,axis=1)"
   ]
  },
  {
   "cell_type": "code",
   "execution_count": 20,
   "metadata": {
    "collapsed": false
   },
   "outputs": [
    {
     "data": {
      "text/plain": [
       "(6925, 447)"
      ]
     },
     "execution_count": 20,
     "metadata": {},
     "output_type": "execute_result"
    }
   ],
   "source": [
    "train_label=pd.read_csv('/Users/ruiqiao/Documents/whale/train.csv')\n",
    "ids=train_label['whaleID']\n",
    "FlipX_pred=np.load('modelv4_FlipX.npz')['arr_0']\n",
    "FlipX_pred=np.reshape(FlipX_pred,(6925,344))\n",
    "for whale in omit:\n",
    "    FlipX_pred=np.insert(FlipX_pred,whale,default,axis=1)\n",
    "FlipX_pred.shape"
   ]
  },
  {
   "cell_type": "code",
   "execution_count": 21,
   "metadata": {
    "collapsed": false
   },
   "outputs": [
    {
     "data": {
      "text/plain": [
       "(6925, 447)"
      ]
     },
     "execution_count": 21,
     "metadata": {},
     "output_type": "execute_result"
    }
   ],
   "source": [
    "R90_pred=np.load('modelv4_Rotate90.npz')['arr_0']\n",
    "R90_pred=np.reshape(R90_pred,(6925,344))\n",
    "for whale in omit:\n",
    "    R90_pred=np.insert(R90_pred,whale,default,axis=1)\n",
    "R90_pred.shape"
   ]
  },
  {
   "cell_type": "code",
   "execution_count": 22,
   "metadata": {
    "collapsed": false
   },
   "outputs": [
    {
     "data": {
      "text/plain": [
       "(6925, 447)"
      ]
     },
     "execution_count": 22,
     "metadata": {},
     "output_type": "execute_result"
    }
   ],
   "source": [
    "R180_pred=np.load('modelv4_Rotate180.npz')['arr_0']\n",
    "R180_pred=np.reshape(R180_pred,(6925,344))\n",
    "for whale in omit:\n",
    "    R180_pred=np.insert(R180_pred,whale,default,axis=1)\n",
    "R180_pred.shape"
   ]
  },
  {
   "cell_type": "code",
   "execution_count": 23,
   "metadata": {
    "collapsed": false
   },
   "outputs": [
    {
     "data": {
      "text/plain": [
       "(6925, 447)"
      ]
     },
     "execution_count": 23,
     "metadata": {},
     "output_type": "execute_result"
    }
   ],
   "source": [
    "R270_pred=np.load('modelv4_Rotate270.npz')['arr_0']\n",
    "R270_pred=np.reshape(R270_pred,(6925,344))\n",
    "for whale in omit:\n",
    "    R270_pred=np.insert(R270_pred,whale,default,axis=1)\n",
    "R270_pred.shape"
   ]
  },
  {
   "cell_type": "code",
   "execution_count": 24,
   "metadata": {
    "collapsed": true
   },
   "outputs": [],
   "source": [
    "wid=[]\n",
    "for i in set(ids):\n",
    "    wid.append(i)\n",
    "wid.sort()"
   ]
  },
  {
   "cell_type": "code",
   "execution_count": 25,
   "metadata": {
    "collapsed": false
   },
   "outputs": [],
   "source": [
    "idcount=Counter(ids).most_common()\n",
    "def id_to_num(wid):\n",
    "    for tup in idcount:\n",
    "        if tup[0]==wid:\n",
    "            return tup[1]\n",
    "        \n",
    "prior=np.zeros((6925,447),dtype=np.float32)\n",
    "for i in range(447):\n",
    "    prior[:,i]=id_to_num(wid[i])/4500"
   ]
  },
  {
   "cell_type": "code",
   "execution_count": 26,
   "metadata": {
    "collapsed": true
   },
   "outputs": [],
   "source": [
    "p=resize_pred+FlipX_pred+R90_pred+R180_pred+R270_pred+prior*6"
   ]
  },
  {
   "cell_type": "code",
   "execution_count": 27,
   "metadata": {
    "collapsed": true
   },
   "outputs": [],
   "source": [
    "p=pd.DataFrame(p,index=pname,columns=wid)"
   ]
  },
  {
   "cell_type": "code",
   "execution_count": 28,
   "metadata": {
    "collapsed": true
   },
   "outputs": [],
   "source": [
    "p.to_csv('sub_modelv4.csv',index_label='Image')"
   ]
  },
  {
   "cell_type": "code",
   "execution_count": null,
   "metadata": {
    "collapsed": true
   },
   "outputs": [],
   "source": []
  }
 ],
 "metadata": {
  "kernelspec": {
   "display_name": "Python 3",
   "language": "python",
   "name": "python3"
  },
  "language_info": {
   "codemirror_mode": {
    "name": "ipython",
    "version": 3
   },
   "file_extension": ".py",
   "mimetype": "text/x-python",
   "name": "python",
   "nbconvert_exporter": "python",
   "pygments_lexer": "ipython3",
   "version": "3.4.3"
  }
 },
 "nbformat": 4,
 "nbformat_minor": 0
}
