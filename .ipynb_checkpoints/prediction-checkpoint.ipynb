{
 "cells": [
  {
   "cell_type": "code",
   "execution_count": 33,
   "metadata": {
    "collapsed": true
   },
   "outputs": [],
   "source": [
    "import numpy as np\n",
    "import pandas as pd\n",
    "import os\n",
    "import sys\n",
    "from PIL import Image\n",
    "from sklearn.cross_validation import train_test_split\n",
    "import glob\n",
    "from collections import Counter\n"
   ]
  },
  {
   "cell_type": "code",
   "execution_count": 2,
   "metadata": {
    "collapsed": false
   },
   "outputs": [
    {
     "data": {
      "text/plain": [
       "'/Users/ruiqiao/Documents/whale/predict'"
      ]
     },
     "execution_count": 2,
     "metadata": {},
     "output_type": "execute_result"
    }
   ],
   "source": [
    "%pwd"
   ]
  },
  {
   "cell_type": "code",
   "execution_count": 3,
   "metadata": {
    "collapsed": false
   },
   "outputs": [],
   "source": [
    "name=pd.read_csv('sample_submission.csv',usecols=[0])"
   ]
  },
  {
   "cell_type": "code",
   "execution_count": 4,
   "metadata": {
    "collapsed": false
   },
   "outputs": [],
   "source": [
    "pname=[]\n",
    "for i in name['Image']:\n",
    "    pname.append(i)"
   ]
  },
  {
   "cell_type": "code",
   "execution_count": 5,
   "metadata": {
    "collapsed": false
   },
   "outputs": [
    {
     "data": {
      "text/plain": [
       "'w_5278.jpg'"
      ]
     },
     "execution_count": 5,
     "metadata": {},
     "output_type": "execute_result"
    }
   ],
   "source": [
    "pname[-3]"
   ]
  },
  {
   "cell_type": "code",
   "execution_count": 6,
   "metadata": {
    "collapsed": false,
    "scrolled": true
   },
   "outputs": [
    {
     "data": {
      "text/plain": [
       "0      w_1947.jpg\n",
       "1     w_11096.jpg\n",
       "2     w_10973.jpg\n",
       "3     w_10442.jpg\n",
       "4     w_10606.jpg\n",
       "5     w_11167.jpg\n",
       "6      w_1464.jpg\n",
       "7      w_5072.jpg\n",
       "8      w_5492.jpg\n",
       "9     w_10124.jpg\n",
       "10     w_9503.jpg\n",
       "11    w_11267.jpg\n",
       "12     w_1590.jpg\n",
       "13    w_10175.jpg\n",
       "14    w_10222.jpg\n",
       "...\n",
       "6910    w_10754.jpg\n",
       "6911    w_10324.jpg\n",
       "6912     w_8583.jpg\n",
       "6913    w_11266.jpg\n",
       "6914     w_7670.jpg\n",
       "6915      w_191.jpg\n",
       "6916      w_240.jpg\n",
       "6917      w_362.jpg\n",
       "6918     w_3412.jpg\n",
       "6919     w_3712.jpg\n",
       "6920     w_4867.jpg\n",
       "6921     w_5230.jpg\n",
       "6922     w_5278.jpg\n",
       "6923     w_9218.jpg\n",
       "6924     w_9316.jpg\n",
       "Name: Image, Length: 6925, dtype: object"
      ]
     },
     "execution_count": 6,
     "metadata": {},
     "output_type": "execute_result"
    }
   ],
   "source": [
    "name['Image']"
   ]
  },
  {
   "cell_type": "code",
   "execution_count": 7,
   "metadata": {
    "collapsed": false
   },
   "outputs": [
    {
     "data": {
      "text/plain": [
       "(6925, 344)"
      ]
     },
     "execution_count": 7,
     "metadata": {},
     "output_type": "execute_result"
    }
   ],
   "source": [
    "resize_pred=np.load('modelv3_Resize.npz')['arr_0']\n",
    "resize_pred=np.reshape(resize_pred,(6925,344))\n",
    "resize_pred.shape"
   ]
  },
  {
   "cell_type": "code",
   "execution_count": 8,
   "metadata": {
    "collapsed": true
   },
   "outputs": [],
   "source": [
    "omit=[1,\n",
    " 4,\n",
    " 5,\n",
    " 10,\n",
    " 14,\n",
    " 16,\n",
    " 18,\n",
    " 26,\n",
    " 27,\n",
    " 37,\n",
    " 39,\n",
    " 41,\n",
    " 44,\n",
    " 54,\n",
    " 61,\n",
    " 64,\n",
    " 66,\n",
    " 74,\n",
    " 76,\n",
    " 77,\n",
    " 92,\n",
    " 93,\n",
    " 94,\n",
    " 97,\n",
    " 100,\n",
    " 101,\n",
    " 103,\n",
    " 113,\n",
    " 116,\n",
    " 121,\n",
    " 124,\n",
    " 125,\n",
    " 126,\n",
    " 130,\n",
    " 134,\n",
    " 148,\n",
    " 152,\n",
    " 154,\n",
    " 162,\n",
    " 164,\n",
    " 173,\n",
    " 174,\n",
    " 177,\n",
    " 185,\n",
    " 186,\n",
    " 187,\n",
    " 195,\n",
    " 196,\n",
    " 201,\n",
    " 204,\n",
    " 205,\n",
    " 207,\n",
    " 210,\n",
    " 211,\n",
    " 214,\n",
    " 216,\n",
    " 221,\n",
    " 225,\n",
    " 228,\n",
    " 233,\n",
    " 235,\n",
    " 247,\n",
    " 249,\n",
    " 250,\n",
    " 256,\n",
    " 257,\n",
    " 268,\n",
    " 273,\n",
    " 282,\n",
    " 287,\n",
    " 291,\n",
    " 293,\n",
    " 297,\n",
    " 306,\n",
    " 314,\n",
    " 324,\n",
    " 328,\n",
    " 333,\n",
    " 334,\n",
    " 339,\n",
    " 340,\n",
    " 342,\n",
    " 345,\n",
    " 358,\n",
    " 359,\n",
    " 367,\n",
    " 375,\n",
    " 384,\n",
    " 392,\n",
    " 395,\n",
    " 397,\n",
    " 398,\n",
    " 402,\n",
    " 404,\n",
    " 408,\n",
    " 412,\n",
    " 415,\n",
    " 417,\n",
    " 420,\n",
    " 421,\n",
    " 430,\n",
    " 433,\n",
    " 434]"
   ]
  },
  {
   "cell_type": "code",
   "execution_count": 9,
   "metadata": {
    "collapsed": true
   },
   "outputs": [],
   "source": [
    "default=0\n",
    "for whale in omit:\n",
    "    resize_pred=np.insert(resize_pred,whale,default,axis=1)"
   ]
  },
  {
   "cell_type": "code",
   "execution_count": 10,
   "metadata": {
    "collapsed": false
   },
   "outputs": [
    {
     "data": {
      "text/plain": [
       "(6925, 447)"
      ]
     },
     "execution_count": 10,
     "metadata": {},
     "output_type": "execute_result"
    }
   ],
   "source": [
    "resize_pred.shape"
   ]
  },
  {
   "cell_type": "code",
   "execution_count": 11,
   "metadata": {
    "collapsed": true
   },
   "outputs": [],
   "source": [
    "train_label=pd.read_csv('/Users/ruiqiao/Documents/whale/train.csv')\n",
    "ids=train_label['whaleID']\n"
   ]
  },
  {
   "cell_type": "code",
   "execution_count": 12,
   "metadata": {
    "collapsed": false
   },
   "outputs": [
    {
     "data": {
      "text/plain": [
       "(6925, 447)"
      ]
     },
     "execution_count": 12,
     "metadata": {},
     "output_type": "execute_result"
    }
   ],
   "source": [
    "FlipX_pred=np.load('modelv3_FlipX.npz')['arr_0']\n",
    "FlipX_pred=np.reshape(FlipX_pred,(6925,344))\n",
    "for whale in omit:\n",
    "    FlipX_pred=np.insert(FlipX_pred,whale,default,axis=1)\n",
    "FlipX_pred.shape"
   ]
  },
  {
   "cell_type": "code",
   "execution_count": 13,
   "metadata": {
    "collapsed": false
   },
   "outputs": [
    {
     "data": {
      "text/plain": [
       "(6925, 447)"
      ]
     },
     "execution_count": 13,
     "metadata": {},
     "output_type": "execute_result"
    }
   ],
   "source": [
    "R90_pred=np.load('modelv3_Rotate90.npz')['arr_0']\n",
    "R90_pred=np.reshape(R90_pred,(6925,344))\n",
    "for whale in omit:\n",
    "    R90_pred=np.insert(R90_pred,whale,default,axis=1)\n",
    "R90_pred.shape"
   ]
  },
  {
   "cell_type": "code",
   "execution_count": 14,
   "metadata": {
    "collapsed": false
   },
   "outputs": [
    {
     "data": {
      "text/plain": [
       "(6925, 447)"
      ]
     },
     "execution_count": 14,
     "metadata": {},
     "output_type": "execute_result"
    }
   ],
   "source": [
    "R180_pred=np.load('modelv3_Rotate180.npz')['arr_0']\n",
    "R180_pred=np.reshape(R180_pred,(6925,344))\n",
    "for whale in omit:\n",
    "    R180_pred=np.insert(R180_pred,whale,default,axis=1)\n",
    "R180_pred.shape"
   ]
  },
  {
   "cell_type": "code",
   "execution_count": 15,
   "metadata": {
    "collapsed": false
   },
   "outputs": [
    {
     "data": {
      "text/plain": [
       "(6925, 447)"
      ]
     },
     "execution_count": 15,
     "metadata": {},
     "output_type": "execute_result"
    }
   ],
   "source": [
    "R270_pred=np.load('modelv3_Rotate270.npz')['arr_0']\n",
    "R270_pred=np.reshape(R270_pred,(6925,344))\n",
    "for whale in omit:\n",
    "    R270_pred=np.insert(R270_pred,whale,default,axis=1)\n",
    "R270_pred.shape"
   ]
  },
  {
   "cell_type": "code",
   "execution_count": 47,
   "metadata": {
    "collapsed": true
   },
   "outputs": [],
   "source": [
    "p=resize_pred+R90_pred+R180_pred+R270_pred+prior*100"
   ]
  },
  {
   "cell_type": "code",
   "execution_count": 17,
   "metadata": {
    "collapsed": false
   },
   "outputs": [],
   "source": [
    "wid=[]\n",
    "for i in set(ids):\n",
    "    wid.append(i)\n",
    "wid.sort()"
   ]
  },
  {
   "cell_type": "code",
   "execution_count": 18,
   "metadata": {
    "collapsed": false
   },
   "outputs": [
    {
     "data": {
      "text/plain": [
       "['whale_00195',\n",
       " 'whale_00442',\n",
       " 'whale_02411',\n",
       " 'whale_02608',\n",
       " 'whale_02839',\n",
       " 'whale_03103',\n",
       " 'whale_03227',\n",
       " 'whale_03623',\n",
       " 'whale_03728',\n",
       " 'whale_03935',\n",
       " 'whale_03990',\n",
       " 'whale_04373',\n",
       " 'whale_04397',\n",
       " 'whale_04435',\n",
       " 'whale_04480',\n",
       " 'whale_04540',\n",
       " 'whale_05140',\n",
       " 'whale_05349',\n",
       " 'whale_05487',\n",
       " 'whale_05661',\n",
       " 'whale_05784',\n",
       " 'whale_06069',\n",
       " 'whale_06334',\n",
       " 'whale_06339',\n",
       " 'whale_06967',\n",
       " 'whale_06997',\n",
       " 'whale_07331',\n",
       " 'whale_07483',\n",
       " 'whale_07647',\n",
       " 'whale_07808',\n",
       " 'whale_07863',\n",
       " 'whale_08017',\n",
       " 'whale_08181',\n",
       " 'whale_08324',\n",
       " 'whale_08439',\n",
       " 'whale_08637',\n",
       " 'whale_08700',\n",
       " 'whale_08729',\n",
       " 'whale_08923',\n",
       " 'whale_09062',\n",
       " 'whale_09181',\n",
       " 'whale_09422',\n",
       " 'whale_09454',\n",
       " 'whale_09651',\n",
       " 'whale_09913',\n",
       " 'whale_10005',\n",
       " 'whale_10021',\n",
       " 'whale_10583',\n",
       " 'whale_10977',\n",
       " 'whale_11076',\n",
       " 'whale_11099',\n",
       " 'whale_11242',\n",
       " 'whale_11555',\n",
       " 'whale_11625',\n",
       " 'whale_11708',\n",
       " 'whale_12074',\n",
       " 'whale_12085',\n",
       " 'whale_12609',\n",
       " 'whale_12661',\n",
       " 'whale_12820',\n",
       " 'whale_13288',\n",
       " 'whale_13701',\n",
       " 'whale_13789',\n",
       " 'whale_13863',\n",
       " 'whale_14094',\n",
       " 'whale_14270',\n",
       " 'whale_14626',\n",
       " 'whale_14892',\n",
       " 'whale_15078',\n",
       " 'whale_15079',\n",
       " 'whale_15434',\n",
       " 'whale_15519',\n",
       " 'whale_15615',\n",
       " 'whale_16406',\n",
       " 'whale_16576',\n",
       " 'whale_16738',\n",
       " 'whale_16762',\n",
       " 'whale_17327',\n",
       " 'whale_17528',\n",
       " 'whale_17601',\n",
       " 'whale_17604',\n",
       " 'whale_17785',\n",
       " 'whale_18158',\n",
       " 'whale_18845',\n",
       " 'whale_18989',\n",
       " 'whale_19027',\n",
       " 'whale_19041',\n",
       " 'whale_19906',\n",
       " 'whale_20248',\n",
       " 'whale_20448',\n",
       " 'whale_21160',\n",
       " 'whale_21213',\n",
       " 'whale_21655',\n",
       " 'whale_21873',\n",
       " 'whale_22059',\n",
       " 'whale_22101',\n",
       " 'whale_22118',\n",
       " 'whale_22212',\n",
       " 'whale_22297',\n",
       " 'whale_22448',\n",
       " 'whale_22848',\n",
       " 'whale_23118',\n",
       " 'whale_23367',\n",
       " 'whale_23467',\n",
       " 'whale_23525',\n",
       " 'whale_23574',\n",
       " 'whale_23821',\n",
       " 'whale_23847',\n",
       " 'whale_23855',\n",
       " 'whale_24458',\n",
       " 'whale_24679',\n",
       " 'whale_24730',\n",
       " 'whale_24815',\n",
       " 'whale_25659',\n",
       " 'whale_25715',\n",
       " 'whale_25878',\n",
       " 'whale_26212',\n",
       " 'whale_26288',\n",
       " 'whale_26397',\n",
       " 'whale_26654',\n",
       " 'whale_26686',\n",
       " 'whale_27085',\n",
       " 'whale_27221',\n",
       " 'whale_27820',\n",
       " 'whale_27834',\n",
       " 'whale_27860',\n",
       " 'whale_28216',\n",
       " 'whale_28263',\n",
       " 'whale_28384',\n",
       " 'whale_28892',\n",
       " 'whale_29172',\n",
       " 'whale_29294',\n",
       " 'whale_29569',\n",
       " 'whale_29858',\n",
       " 'whale_30074',\n",
       " 'whale_30331',\n",
       " 'whale_31594',\n",
       " 'whale_31739',\n",
       " 'whale_32021',\n",
       " 'whale_32087',\n",
       " 'whale_32198',\n",
       " 'whale_32702',\n",
       " 'whale_33140',\n",
       " 'whale_33152',\n",
       " 'whale_33195',\n",
       " 'whale_33723',\n",
       " 'whale_33961',\n",
       " 'whale_34488',\n",
       " 'whale_34513',\n",
       " 'whale_34656',\n",
       " 'whale_34663',\n",
       " 'whale_34798',\n",
       " 'whale_34813',\n",
       " 'whale_35004',\n",
       " 'whale_35426',\n",
       " 'whale_35430',\n",
       " 'whale_35594',\n",
       " 'whale_35844',\n",
       " 'whale_36154',\n",
       " 'whale_36231',\n",
       " 'whale_36300',\n",
       " 'whale_36437',\n",
       " 'whale_36648',\n",
       " 'whale_36851',\n",
       " 'whale_37014',\n",
       " 'whale_37154',\n",
       " 'whale_37269',\n",
       " 'whale_37301',\n",
       " 'whale_37654',\n",
       " 'whale_37658',\n",
       " 'whale_38008',\n",
       " 'whale_38191',\n",
       " 'whale_38288',\n",
       " 'whale_38302',\n",
       " 'whale_38437',\n",
       " 'whale_38543',\n",
       " 'whale_38681',\n",
       " 'whale_38817',\n",
       " 'whale_38894',\n",
       " 'whale_38906',\n",
       " 'whale_39293',\n",
       " 'whale_39674',\n",
       " 'whale_39689',\n",
       " 'whale_39915',\n",
       " 'whale_40169',\n",
       " 'whale_40190',\n",
       " 'whale_40483',\n",
       " 'whale_40885',\n",
       " 'whale_41125',\n",
       " 'whale_41776',\n",
       " 'whale_41805',\n",
       " 'whale_41881',\n",
       " 'whale_41921',\n",
       " 'whale_42191',\n",
       " 'whale_43045',\n",
       " 'whale_43326',\n",
       " 'whale_43374',\n",
       " 'whale_43961',\n",
       " 'whale_43971',\n",
       " 'whale_44071',\n",
       " 'whale_44127',\n",
       " 'whale_44699',\n",
       " 'whale_44747',\n",
       " 'whale_45062',\n",
       " 'whale_45294',\n",
       " 'whale_45367',\n",
       " 'whale_45465',\n",
       " 'whale_45728',\n",
       " 'whale_46169',\n",
       " 'whale_46747',\n",
       " 'whale_46974',\n",
       " 'whale_47062',\n",
       " 'whale_47700',\n",
       " 'whale_47734',\n",
       " 'whale_47768',\n",
       " 'whale_47858',\n",
       " 'whale_48024',\n",
       " 'whale_48386',\n",
       " 'whale_48415',\n",
       " 'whale_48490',\n",
       " 'whale_48497',\n",
       " 'whale_48633',\n",
       " 'whale_48813',\n",
       " 'whale_48966',\n",
       " 'whale_49135',\n",
       " 'whale_49210',\n",
       " 'whale_49237',\n",
       " 'whale_49277',\n",
       " 'whale_49491',\n",
       " 'whale_49530',\n",
       " 'whale_49832',\n",
       " 'whale_49877',\n",
       " 'whale_50021',\n",
       " 'whale_51114',\n",
       " 'whale_51195',\n",
       " 'whale_51332',\n",
       " 'whale_51538',\n",
       " 'whale_51603',\n",
       " 'whale_52100',\n",
       " 'whale_52342',\n",
       " 'whale_52505',\n",
       " 'whale_52749',\n",
       " 'whale_52759',\n",
       " 'whale_52998',\n",
       " 'whale_53079',\n",
       " 'whale_53580',\n",
       " 'whale_53889',\n",
       " 'whale_54497',\n",
       " 'whale_54574',\n",
       " 'whale_54796',\n",
       " 'whale_54850',\n",
       " 'whale_54920',\n",
       " 'whale_55079',\n",
       " 'whale_55333',\n",
       " 'whale_55550',\n",
       " 'whale_55861',\n",
       " 'whale_56281',\n",
       " 'whale_57251',\n",
       " 'whale_57338',\n",
       " 'whale_58010',\n",
       " 'whale_58309',\n",
       " 'whale_58362',\n",
       " 'whale_58474',\n",
       " 'whale_58747',\n",
       " 'whale_58972',\n",
       " 'whale_59173',\n",
       " 'whale_59255',\n",
       " 'whale_59627',\n",
       " 'whale_60451',\n",
       " 'whale_60729',\n",
       " 'whale_60921',\n",
       " 'whale_61260',\n",
       " 'whale_61461',\n",
       " 'whale_61728',\n",
       " 'whale_61924',\n",
       " 'whale_62655',\n",
       " 'whale_62939',\n",
       " 'whale_63541',\n",
       " 'whale_63816',\n",
       " 'whale_63948',\n",
       " 'whale_64006',\n",
       " 'whale_64274',\n",
       " 'whale_64299',\n",
       " 'whale_64496',\n",
       " 'whale_64526',\n",
       " 'whale_64634',\n",
       " 'whale_64714',\n",
       " 'whale_64903',\n",
       " 'whale_64937',\n",
       " 'whale_64989',\n",
       " 'whale_65057',\n",
       " 'whale_65263',\n",
       " 'whale_65586',\n",
       " 'whale_65737',\n",
       " 'whale_66205',\n",
       " 'whale_66353',\n",
       " 'whale_66421',\n",
       " 'whale_66539',\n",
       " 'whale_66711',\n",
       " 'whale_66852',\n",
       " 'whale_66935',\n",
       " 'whale_67036',\n",
       " 'whale_67407',\n",
       " 'whale_67611',\n",
       " 'whale_67614',\n",
       " 'whale_67685',\n",
       " 'whale_67801',\n",
       " 'whale_68116',\n",
       " 'whale_68338',\n",
       " 'whale_68774',\n",
       " 'whale_68789',\n",
       " 'whale_69084',\n",
       " 'whale_69459',\n",
       " 'whale_69619',\n",
       " 'whale_69943',\n",
       " 'whale_70138',\n",
       " 'whale_70904',\n",
       " 'whale_71062',\n",
       " 'whale_71554',\n",
       " 'whale_72235',\n",
       " 'whale_72327',\n",
       " 'whale_72820',\n",
       " 'whale_73080',\n",
       " 'whale_73136',\n",
       " 'whale_73167',\n",
       " 'whale_73592',\n",
       " 'whale_73666',\n",
       " 'whale_73684',\n",
       " 'whale_74062',\n",
       " 'whale_74162',\n",
       " 'whale_74232',\n",
       " 'whale_74439',\n",
       " 'whale_74625',\n",
       " 'whale_74683',\n",
       " 'whale_74828',\n",
       " 'whale_74935',\n",
       " 'whale_75215',\n",
       " 'whale_75413',\n",
       " 'whale_75455',\n",
       " 'whale_75682',\n",
       " 'whale_75767',\n",
       " 'whale_75932',\n",
       " 'whale_76398',\n",
       " 'whale_76782',\n",
       " 'whale_77693',\n",
       " 'whale_77984',\n",
       " 'whale_78280',\n",
       " 'whale_78372',\n",
       " 'whale_78395',\n",
       " 'whale_78565',\n",
       " 'whale_78628',\n",
       " 'whale_78785',\n",
       " 'whale_79166',\n",
       " 'whale_79193',\n",
       " 'whale_79199',\n",
       " 'whale_79439',\n",
       " 'whale_79648',\n",
       " 'whale_79823',\n",
       " 'whale_79948',\n",
       " 'whale_80124',\n",
       " 'whale_80247',\n",
       " 'whale_80405',\n",
       " 'whale_80947',\n",
       " 'whale_81136',\n",
       " 'whale_81768',\n",
       " 'whale_81818',\n",
       " 'whale_81875',\n",
       " 'whale_81915',\n",
       " 'whale_81960',\n",
       " 'whale_82064',\n",
       " 'whale_82089',\n",
       " 'whale_82387',\n",
       " 'whale_82548',\n",
       " 'whale_82554',\n",
       " 'whale_82602',\n",
       " 'whale_83157',\n",
       " 'whale_83791',\n",
       " 'whale_83892',\n",
       " 'whale_84178',\n",
       " 'whale_84264',\n",
       " 'whale_84963',\n",
       " 'whale_85464',\n",
       " 'whale_85670',\n",
       " 'whale_86041',\n",
       " 'whale_86081',\n",
       " 'whale_86158',\n",
       " 'whale_86206',\n",
       " 'whale_86377',\n",
       " 'whale_86527',\n",
       " 'whale_86585',\n",
       " 'whale_87155',\n",
       " 'whale_87291',\n",
       " 'whale_87420',\n",
       " 'whale_87604',\n",
       " 'whale_87622',\n",
       " 'whale_88085',\n",
       " 'whale_88147',\n",
       " 'whale_88226',\n",
       " 'whale_88432',\n",
       " 'whale_88478',\n",
       " 'whale_88547',\n",
       " 'whale_88746',\n",
       " 'whale_88756',\n",
       " 'whale_89211',\n",
       " 'whale_89271',\n",
       " 'whale_89456',\n",
       " 'whale_89541',\n",
       " 'whale_89615',\n",
       " 'whale_90141',\n",
       " 'whale_90244',\n",
       " 'whale_90271',\n",
       " 'whale_90377',\n",
       " 'whale_90446',\n",
       " 'whale_90820',\n",
       " 'whale_90911',\n",
       " 'whale_90929',\n",
       " 'whale_90957',\n",
       " 'whale_90966',\n",
       " 'whale_91826',\n",
       " 'whale_92153',\n",
       " 'whale_92465',\n",
       " 'whale_92515',\n",
       " 'whale_92686',\n",
       " 'whale_94176',\n",
       " 'whale_94546',\n",
       " 'whale_95091',\n",
       " 'whale_95370',\n",
       " 'whale_95831',\n",
       " 'whale_96240',\n",
       " 'whale_96385',\n",
       " 'whale_97440',\n",
       " 'whale_97542',\n",
       " 'whale_97688',\n",
       " 'whale_97882',\n",
       " 'whale_97924',\n",
       " 'whale_98151',\n",
       " 'whale_98507',\n",
       " 'whale_98618',\n",
       " 'whale_98633',\n",
       " 'whale_98645',\n",
       " 'whale_98746',\n",
       " 'whale_98939',\n",
       " 'whale_98996',\n",
       " 'whale_99243',\n",
       " 'whale_99326',\n",
       " 'whale_99558',\n",
       " 'whale_99573']"
      ]
     },
     "execution_count": 18,
     "metadata": {},
     "output_type": "execute_result"
    }
   ],
   "source": [
    "wid"
   ]
  },
  {
   "cell_type": "code",
   "execution_count": 45,
   "metadata": {
    "collapsed": true
   },
   "outputs": [],
   "source": [
    "p=pd.DataFrame(p,index=pname,columns=wid)"
   ]
  },
  {
   "cell_type": "code",
   "execution_count": 46,
   "metadata": {
    "collapsed": false
   },
   "outputs": [],
   "source": [
    "p.to_csv('sub_modelv3.csv',index_label='Image')"
   ]
  },
  {
   "cell_type": "code",
   "execution_count": 21,
   "metadata": {
    "collapsed": true
   },
   "outputs": [],
   "source": [
    "a=pd.DataFrame(np.array([[1,2],[3,4]]))"
   ]
  },
  {
   "cell_type": "code",
   "execution_count": 54,
   "metadata": {
    "collapsed": false
   },
   "outputs": [
    {
     "data": {
      "text/html": [
       "<div style=\"max-height:1000px;max-width:1500px;overflow:auto;\">\n",
       "<table border=\"1\" class=\"dataframe\">\n",
       "  <thead>\n",
       "    <tr style=\"text-align: right;\">\n",
       "      <th></th>\n",
       "      <th>0</th>\n",
       "      <th>1</th>\n",
       "    </tr>\n",
       "  </thead>\n",
       "  <tbody>\n",
       "    <tr>\n",
       "      <th>0</th>\n",
       "      <td> 1</td>\n",
       "      <td> 2</td>\n",
       "    </tr>\n",
       "    <tr>\n",
       "      <th>1</th>\n",
       "      <td> 3</td>\n",
       "      <td> 4</td>\n",
       "    </tr>\n",
       "  </tbody>\n",
       "</table>\n",
       "</div>"
      ],
      "text/plain": [
       "   0  1\n",
       "0  1  2\n",
       "1  3  4"
      ]
     },
     "execution_count": 54,
     "metadata": {},
     "output_type": "execute_result"
    }
   ],
   "source": [
    "a"
   ]
  },
  {
   "cell_type": "code",
   "execution_count": 59,
   "metadata": {
    "collapsed": false
   },
   "outputs": [],
   "source": [
    "a.to_csv('exp.csv',index_label=['a'])"
   ]
  },
  {
   "cell_type": "code",
   "execution_count": 34,
   "metadata": {
    "collapsed": false
   },
   "outputs": [],
   "source": [
    "idcount=Counter(ids).most_common()\n",
    "def id_to_num(wid):\n",
    "    for tup in idcount:\n",
    "        if tup[0]==wid:\n",
    "            return tup[1]"
   ]
  },
  {
   "cell_type": "code",
   "execution_count": 25,
   "metadata": {
    "collapsed": true
   },
   "outputs": [],
   "source": [
    "prior=np.zeros((6925,447),dtype=np.float32)\n",
    "    "
   ]
  },
  {
   "cell_type": "code",
   "execution_count": 38,
   "metadata": {
    "collapsed": false
   },
   "outputs": [],
   "source": [
    "for i in range(447):\n",
    "    prior[:,i]=id_to_num(wid[i])/4500"
   ]
  },
  {
   "cell_type": "code",
   "execution_count": 39,
   "metadata": {
    "collapsed": false
   },
   "outputs": [
    {
     "data": {
      "text/plain": [
       "array([[ 0.00311111,  0.00066667,  0.00266667, ...,  0.00133333,\n",
       "         0.00333333,  0.00222222],\n",
       "       [ 0.00311111,  0.00066667,  0.00266667, ...,  0.00133333,\n",
       "         0.00333333,  0.00222222],\n",
       "       [ 0.00311111,  0.00066667,  0.00266667, ...,  0.00133333,\n",
       "         0.00333333,  0.00222222],\n",
       "       ..., \n",
       "       [ 0.00311111,  0.00066667,  0.00266667, ...,  0.00133333,\n",
       "         0.00333333,  0.00222222],\n",
       "       [ 0.00311111,  0.00066667,  0.00266667, ...,  0.00133333,\n",
       "         0.00333333,  0.00222222],\n",
       "       [ 0.00311111,  0.00066667,  0.00266667, ...,  0.00133333,\n",
       "         0.00333333,  0.00222222]], dtype=float32)"
      ]
     },
     "execution_count": 39,
     "metadata": {},
     "output_type": "execute_result"
    }
   ],
   "source": [
    "prior"
   ]
  },
  {
   "cell_type": "code",
   "execution_count": null,
   "metadata": {
    "collapsed": true
   },
   "outputs": [],
   "source": []
  }
 ],
 "metadata": {
  "kernelspec": {
   "display_name": "Python 3",
   "language": "python",
   "name": "python3"
  },
  "language_info": {
   "codemirror_mode": {
    "name": "ipython",
    "version": 3
   },
   "file_extension": ".py",
   "mimetype": "text/x-python",
   "name": "python",
   "nbconvert_exporter": "python",
   "pygments_lexer": "ipython3",
   "version": "3.4.3"
  }
 },
 "nbformat": 4,
 "nbformat_minor": 0
}
